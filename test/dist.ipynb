{
 "cells": [
  {
   "cell_type": "code",
   "execution_count": 3,
   "metadata": {},
   "outputs": [],
   "source": [
    "import glob\n",
    "import json\n",
    "import pandas as pd\n",
    "import os"
   ]
  },
  {
   "cell_type": "markdown",
   "metadata": {},
   "source": []
  },
  {
   "cell_type": "code",
   "execution_count": 2,
   "metadata": {},
   "outputs": [
    {
     "ename": "KeyboardInterrupt",
     "evalue": "",
     "output_type": "error",
     "traceback": [
      "\u001b[0;31m---------------------------------------------------------------------------\u001b[0m",
      "\u001b[0;31mKeyboardInterrupt\u001b[0m                         Traceback (most recent call last)",
      "\u001b[1;32m/mnt/datadisk0/ouyangliqi/OPT/test/dist.ipynb Cell 3\u001b[0m in \u001b[0;36m<cell line: 4>\u001b[0;34m()\u001b[0m\n\u001b[1;32m      <a href='vscode-notebook-cell://ssh-remote%2B7b22686f73744e616d65223a224465765f76313030227d/mnt/datadisk0/ouyangliqi/OPT/test/dist.ipynb#ch0000002vscode-remote?line=5'>6</a>\u001b[0m f \u001b[39m=\u001b[39m os\u001b[39m.\u001b[39mpath\u001b[39m.\u001b[39mjoin(os\u001b[39m.\u001b[39mpath\u001b[39m.\u001b[39mdirname(\u001b[39mdir\u001b[39m), \u001b[39m\"\u001b[39m\u001b[39munder_all-data.txt\u001b[39m\u001b[39m\"\u001b[39m)\n\u001b[1;32m      <a href='vscode-notebook-cell://ssh-remote%2B7b22686f73744e616d65223a224465765f76313030227d/mnt/datadisk0/ouyangliqi/OPT/test/dist.ipynb#ch0000002vscode-remote?line=6'>7</a>\u001b[0m f \u001b[39m=\u001b[39m \u001b[39mopen\u001b[39m(f)\n\u001b[0;32m----> <a href='vscode-notebook-cell://ssh-remote%2B7b22686f73744e616d65223a224465765f76313030227d/mnt/datadisk0/ouyangliqi/OPT/test/dist.ipynb#ch0000002vscode-remote?line=7'>8</a>\u001b[0m \u001b[39mfor\u001b[39;00m line \u001b[39min\u001b[39;00m f:\n\u001b[1;32m      <a href='vscode-notebook-cell://ssh-remote%2B7b22686f73744e616d65223a224465765f76313030227d/mnt/datadisk0/ouyangliqi/OPT/test/dist.ipynb#ch0000002vscode-remote?line=8'>9</a>\u001b[0m     line \u001b[39m=\u001b[39m json\u001b[39m.\u001b[39mloads(line)\n\u001b[1;32m     <a href='vscode-notebook-cell://ssh-remote%2B7b22686f73744e616d65223a224465765f76313030227d/mnt/datadisk0/ouyangliqi/OPT/test/dist.ipynb#ch0000002vscode-remote?line=9'>10</a>\u001b[0m     a_dist\u001b[39m.\u001b[39mappend(\u001b[39mlen\u001b[39m(\u001b[39m\"\u001b[39m\u001b[39m \u001b[39m\u001b[39m\"\u001b[39m\u001b[39m.\u001b[39mjoin(line[\u001b[39m'\u001b[39m\u001b[39mcont\u001b[39m\u001b[39m'\u001b[39m])))\n",
      "File \u001b[0;32m~/miniconda3/envs/colossalai/lib/python3.8/codecs.py:319\u001b[0m, in \u001b[0;36mBufferedIncrementalDecoder.decode\u001b[0;34m(self, input, final)\u001b[0m\n\u001b[1;32m    314\u001b[0m \u001b[39mdef\u001b[39;00m \u001b[39m_buffer_decode\u001b[39m(\u001b[39mself\u001b[39m, \u001b[39minput\u001b[39m, errors, final):\n\u001b[1;32m    315\u001b[0m     \u001b[39m# Overwrite this method in subclasses: It must decode input\u001b[39;00m\n\u001b[1;32m    316\u001b[0m     \u001b[39m# and return an (output, length consumed) tuple\u001b[39;00m\n\u001b[1;32m    317\u001b[0m     \u001b[39mraise\u001b[39;00m \u001b[39mNotImplementedError\u001b[39;00m\n\u001b[0;32m--> 319\u001b[0m \u001b[39mdef\u001b[39;00m \u001b[39mdecode\u001b[39m(\u001b[39mself\u001b[39m, \u001b[39minput\u001b[39m, final\u001b[39m=\u001b[39m\u001b[39mFalse\u001b[39;00m):\n\u001b[1;32m    320\u001b[0m     \u001b[39m# decode input (taking the buffer into account)\u001b[39;00m\n\u001b[1;32m    321\u001b[0m     data \u001b[39m=\u001b[39m \u001b[39mself\u001b[39m\u001b[39m.\u001b[39mbuffer \u001b[39m+\u001b[39m \u001b[39minput\u001b[39m\n\u001b[1;32m    322\u001b[0m     (result, consumed) \u001b[39m=\u001b[39m \u001b[39mself\u001b[39m\u001b[39m.\u001b[39m_buffer_decode(data, \u001b[39mself\u001b[39m\u001b[39m.\u001b[39merrors, final)\n",
      "\u001b[0;31mKeyboardInterrupt\u001b[0m: "
     ]
    }
   ],
   "source": [
    "commoncrawl = \"/mnt/cfs/commoncrawl-202*-**-filter/\"\n",
    "all_dist = []\n",
    "nline = 0\n",
    "for dir in glob.glob(commoncrawl):\n",
    "    a_dist = []\n",
    "    f = os.path.join(os.path.dirname(dir), \"under_all-data.txt\")\n",
    "    f = open(f)\n",
    "    for line in f:\n",
    "        line = json.loads(line)\n",
    "        a_dist.append(len(\" \".join(line['cont'])))\n",
    "        nline += 1\n",
    "    all_dist.append(a_dist)\n"
   ]
  },
  {
   "cell_type": "code",
   "execution_count": null,
   "metadata": {},
   "outputs": [
    {
     "data": {
      "text/plain": [
       "149412850"
      ]
     },
     "execution_count": 8,
     "metadata": {},
     "output_type": "execute_result"
    }
   ],
   "source": [
    "nline"
   ]
  },
  {
   "cell_type": "code",
   "execution_count": 7,
   "metadata": {},
   "outputs": [
    {
     "name": "stdout",
     "output_type": "stream",
     "text": [
      "                0\n",
      "count 15328189.00\n",
      "mean       192.50\n",
      "std        623.44\n",
      "min          2.00\n",
      "25%         38.00\n",
      "50%         81.00\n",
      "75%        194.00\n",
      "max     306256.00\n",
      "                0\n",
      "count 17304744.00\n",
      "mean       196.32\n",
      "std        751.52\n",
      "min          2.00\n",
      "25%         32.00\n",
      "50%         70.00\n",
      "75%        196.00\n",
      "max     410907.00\n",
      "                0\n",
      "count 12615068.00\n",
      "mean       189.66\n",
      "std        568.55\n",
      "min          2.00\n",
      "25%         36.00\n",
      "50%         78.00\n",
      "75%        192.00\n",
      "max     240278.00\n",
      "                0\n",
      "count 14937804.00\n",
      "mean       202.35\n",
      "std        844.49\n",
      "min          2.00\n",
      "25%         31.00\n",
      "50%         71.00\n",
      "75%        198.00\n",
      "max     326188.00\n",
      "               0\n",
      "count 9092968.00\n",
      "mean      186.29\n",
      "std       672.13\n",
      "min         2.00\n",
      "25%        31.00\n",
      "50%        67.00\n",
      "75%       183.00\n",
      "max    347818.00\n",
      "                0\n",
      "count 12200377.00\n",
      "mean       186.29\n",
      "std        613.65\n",
      "min          2.00\n",
      "25%         32.00\n",
      "50%         70.00\n",
      "75%        189.00\n",
      "max     480797.00\n",
      "                0\n",
      "count 21202311.00\n",
      "mean       190.40\n",
      "std        623.28\n",
      "min          2.00\n",
      "25%         32.00\n",
      "50%         70.00\n",
      "75%        199.00\n",
      "max     492733.00\n",
      "                0\n",
      "count 18722454.00\n",
      "mean       290.06\n",
      "std        644.47\n",
      "min          2.00\n",
      "25%         44.00\n",
      "50%        106.00\n",
      "75%        366.00\n",
      "max     301252.00\n",
      "                0\n",
      "count 15478347.00\n",
      "mean       200.78\n",
      "std        890.51\n",
      "min          2.00\n",
      "25%         31.00\n",
      "50%         68.00\n",
      "75%        190.00\n",
      "max     663549.00\n",
      "                0\n",
      "count 19897516.00\n",
      "mean       193.18\n",
      "std        661.87\n",
      "min          2.00\n",
      "25%         32.00\n",
      "50%         71.00\n",
      "75%        204.00\n",
      "max     663549.00\n"
     ]
    }
   ],
   "source": [
    "pd.set_option('display.float_format', lambda x: '%.2f' % x) #为了直观的显示数字，不采用科学计数法\n",
    "\n",
    "for dis in all_dist:\n",
    "    print(pd.DataFrame(dis).describe())"
   ]
  },
  {
   "cell_type": "code",
   "execution_count": 4,
   "metadata": {},
   "outputs": [
    {
     "data": {
      "text/plain": [
       "4984291"
      ]
     },
     "execution_count": 4,
     "metadata": {},
     "output_type": "execute_result"
    }
   ],
   "source": [
    "weibo = \"/mnt/cfs/weibo_comments/weibocomments_all.txt\"\n",
    "all_len = []\n",
    "nline = 0\n",
    "for line in open(weibo):\n",
    "    all_len.append(len(\" \".join(json.loads(line)['texts'])))\n",
    "    nline += 1\n",
    "nline"
   ]
  },
  {
   "cell_type": "code",
   "execution_count": 5,
   "metadata": {},
   "outputs": [
    {
     "data": {
      "text/html": [
       "<div>\n",
       "<style scoped>\n",
       "    .dataframe tbody tr th:only-of-type {\n",
       "        vertical-align: middle;\n",
       "    }\n",
       "\n",
       "    .dataframe tbody tr th {\n",
       "        vertical-align: top;\n",
       "    }\n",
       "\n",
       "    .dataframe thead th {\n",
       "        text-align: right;\n",
       "    }\n",
       "</style>\n",
       "<table border=\"1\" class=\"dataframe\">\n",
       "  <thead>\n",
       "    <tr style=\"text-align: right;\">\n",
       "      <th></th>\n",
       "      <th>0</th>\n",
       "    </tr>\n",
       "  </thead>\n",
       "  <tbody>\n",
       "    <tr>\n",
       "      <th>count</th>\n",
       "      <td>4390044.00</td>\n",
       "    </tr>\n",
       "    <tr>\n",
       "      <th>mean</th>\n",
       "      <td>44.20</td>\n",
       "    </tr>\n",
       "    <tr>\n",
       "      <th>std</th>\n",
       "      <td>57.88</td>\n",
       "    </tr>\n",
       "    <tr>\n",
       "      <th>min</th>\n",
       "      <td>5.00</td>\n",
       "    </tr>\n",
       "    <tr>\n",
       "      <th>25%</th>\n",
       "      <td>18.00</td>\n",
       "    </tr>\n",
       "    <tr>\n",
       "      <th>50%</th>\n",
       "      <td>28.00</td>\n",
       "    </tr>\n",
       "    <tr>\n",
       "      <th>75%</th>\n",
       "      <td>49.00</td>\n",
       "    </tr>\n",
       "    <tr>\n",
       "      <th>max</th>\n",
       "      <td>1941.00</td>\n",
       "    </tr>\n",
       "  </tbody>\n",
       "</table>\n",
       "</div>"
      ],
      "text/plain": [
       "               0\n",
       "count 4390044.00\n",
       "mean       44.20\n",
       "std        57.88\n",
       "min         5.00\n",
       "25%        18.00\n",
       "50%        28.00\n",
       "75%        49.00\n",
       "max      1941.00"
      ]
     },
     "execution_count": 5,
     "metadata": {},
     "output_type": "execute_result"
    }
   ],
   "source": [
    "pd.set_option('display.float_format', lambda x: '%.2f' % x) #为了直观的显示数字，不采用科学计数法\n",
    "\n",
    "pd.DataFrame(all_len).describe()"
   ]
  },
  {
   "cell_type": "code",
   "execution_count": 10,
   "metadata": {},
   "outputs": [
    {
     "data": {
      "text/plain": [
       "12007759"
      ]
     },
     "execution_count": 10,
     "metadata": {},
     "output_type": "execute_result"
    }
   ],
   "source": [
    "weibo = \"/mnt/cfs/LCCC/lccc_all.txt\"\n",
    "all_len = []\n",
    "nline = 0\n",
    "for line in open(weibo):\n",
    "    all_len.append(len(\" \".join(json.loads(line)['texts'])))\n",
    "    nline += 1\n",
    "nline"
   ]
  },
  {
   "cell_type": "code",
   "execution_count": null,
   "metadata": {},
   "outputs": [],
   "source": []
  }
 ],
 "metadata": {
  "kernelspec": {
   "display_name": "Python 3.8.13 ('colossalai')",
   "language": "python",
   "name": "python3"
  },
  "language_info": {
   "codemirror_mode": {
    "name": "ipython",
    "version": 3
   },
   "file_extension": ".py",
   "mimetype": "text/x-python",
   "name": "python",
   "nbconvert_exporter": "python",
   "pygments_lexer": "ipython3",
   "version": "3.8.13"
  },
  "orig_nbformat": 4,
  "vscode": {
   "interpreter": {
    "hash": "9cca7be446c38bd10a3aaf86474bb70089fdc08c481cb3280cb266bcf109c187"
   }
  }
 },
 "nbformat": 4,
 "nbformat_minor": 2
}
